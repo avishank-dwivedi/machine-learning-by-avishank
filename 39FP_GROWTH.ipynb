{
 "cells": [
  {
   "cell_type": "code",
   "execution_count": 4,
   "id": "a6b8f0ee",
   "metadata": {},
   "outputs": [],
   "source": [
    "import pandas as pd\n",
    "import numpy as np\n",
    "from mlxtend.preprocessing import TransactionEncoder"
   ]
  },
  {
   "cell_type": "code",
   "execution_count": 5,
   "id": "05403ee0",
   "metadata": {},
   "outputs": [],
   "source": [
    "transactions = [\n",
    "    ['Milk', 'Bread', 'Butter'],\n",
    "    ['Bread', 'Butter'],\n",
    "    ['Milk', 'Bread'],\n",
    "    ['Milk', 'Bread', 'Butter', 'Eggs'],\n",
    "    ['Bread', 'Butter', 'Eggs'],\n",
    "    ['Milk', 'Eggs'],\n",
    "    ['Bread', 'Butter', 'Eggs'],\n",
    "    ['Milk', 'Bread', 'Butter'],\n",
    "    ['Milk', 'Bread'],\n",
    "    ['Bread', 'Butter']\n",
    "]\n"
   ]
  },
  {
   "cell_type": "code",
   "execution_count": 6,
   "id": "f41ccc04",
   "metadata": {},
   "outputs": [],
   "source": [
    "te = TransactionEncoder()\n",
    "te_array = te.fit(transactions).transform(transactions)\n",
    "df_encoded = pd.DataFrame(te_array, columns=te.columns_)\n"
   ]
  },
  {
   "cell_type": "code",
   "execution_count": 7,
   "id": "766db4dd",
   "metadata": {},
   "outputs": [],
   "source": [
    "product_counts = df_encoded.sum().sort_values(ascending=False)"
   ]
  },
  {
   "cell_type": "code",
   "execution_count": 8,
   "id": "75708a99",
   "metadata": {},
   "outputs": [
    {
     "data": {
      "text/plain": [
       "Bread     9\n",
       "Butter    7\n",
       "Milk      6\n",
       "Eggs      4\n",
       "dtype: int64"
      ]
     },
     "execution_count": 8,
     "metadata": {},
     "output_type": "execute_result"
    }
   ],
   "source": [
    "product_counts"
   ]
  },
  {
   "cell_type": "code",
   "execution_count": 20,
   "id": "bbcdb6b6",
   "metadata": {},
   "outputs": [],
   "source": [
    "frequent_itemsets = fpgrowth(df_encoded, min_support=0.3, use_colnames=True)\n"
   ]
  },
  {
   "cell_type": "code",
   "execution_count": 21,
   "id": "89a75670",
   "metadata": {},
   "outputs": [
    {
     "name": "stdout",
     "output_type": "stream",
     "text": [
      "📊 Frequent Itemsets (FP-Growth):\n",
      "    support               itemsets\n",
      "0       0.9                (Bread)\n",
      "1       0.7               (Butter)\n",
      "2       0.6                 (Milk)\n",
      "3       0.4                 (Eggs)\n",
      "4       0.7        (Butter, Bread)\n",
      "5       0.5          (Milk, Bread)\n",
      "6       0.3         (Milk, Butter)\n",
      "7       0.3  (Milk, Butter, Bread)\n",
      "8       0.3         (Eggs, Butter)\n",
      "9       0.3          (Eggs, Bread)\n",
      "10      0.3  (Eggs, Butter, Bread)\n"
     ]
    }
   ],
   "source": [
    "\n",
    "print(\"📊 Frequent Itemsets (FP-Growth):\")\n",
    "print(frequent_itemsets)"
   ]
  },
  {
   "cell_type": "code",
   "execution_count": 22,
   "id": "cde755e7",
   "metadata": {},
   "outputs": [],
   "source": [
    "# Step 4: Generate Association Rules\n",
    "rules = association_rules(frequent_itemsets, metric=\"confidence\", min_threshold=0.7)"
   ]
  },
  {
   "cell_type": "code",
   "execution_count": 23,
   "id": "b8605861",
   "metadata": {},
   "outputs": [
    {
     "name": "stdout",
     "output_type": "stream",
     "text": [
      "\n",
      "📈 Association Rules:\n",
      "      antecedents      consequents  support  confidence      lift\n",
      "0        (Butter)          (Bread)      0.7    1.000000  1.111111\n",
      "1         (Bread)         (Butter)      0.7    0.777778  1.111111\n",
      "2          (Milk)          (Bread)      0.5    0.833333  0.925926\n",
      "3  (Butter, Milk)          (Bread)      0.3    1.000000  1.111111\n",
      "4          (Eggs)         (Butter)      0.3    0.750000  1.071429\n",
      "5          (Eggs)          (Bread)      0.3    0.750000  0.833333\n",
      "6  (Eggs, Butter)          (Bread)      0.3    1.000000  1.111111\n",
      "7   (Eggs, Bread)         (Butter)      0.3    1.000000  1.428571\n",
      "8          (Eggs)  (Butter, Bread)      0.3    0.750000  1.071429\n"
     ]
    }
   ],
   "source": [
    "print(\"\\n📈 Association Rules:\")\n",
    "print(rules[['antecedents', 'consequents', 'support', 'confidence', 'lift']])"
   ]
  },
  {
   "cell_type": "code",
   "execution_count": null,
   "id": "701aabee",
   "metadata": {},
   "outputs": [],
   "source": []
  }
 ],
 "metadata": {
  "kernelspec": {
   "display_name": "Python 3 (ipykernel)",
   "language": "python",
   "name": "python3"
  },
  "language_info": {
   "codemirror_mode": {
    "name": "ipython",
    "version": 3
   },
   "file_extension": ".py",
   "mimetype": "text/x-python",
   "name": "python",
   "nbconvert_exporter": "python",
   "pygments_lexer": "ipython3",
   "version": "3.11.5"
  }
 },
 "nbformat": 4,
 "nbformat_minor": 5
}
