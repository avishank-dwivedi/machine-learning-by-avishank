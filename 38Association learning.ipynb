{
 "cells": [
  {
   "cell_type": "code",
   "execution_count": 1,
   "id": "359a5566",
   "metadata": {},
   "outputs": [],
   "source": [
    "# appriori "
   ]
  },
  {
   "cell_type": "code",
   "execution_count": 2,
   "id": "c6044d61",
   "metadata": {},
   "outputs": [],
   "source": [
    "import pandas as pd"
   ]
  },
  {
   "cell_type": "code",
   "execution_count": 3,
   "id": "28c96c0f",
   "metadata": {},
   "outputs": [],
   "source": [
    "dataset = pd.DataFrame([{'Transaction ID': 'T1', 'Items': 'Milk, Bread, Butter'},\n",
    "    {'Transaction ID': 'T2', 'Items': 'Bread, Butter'},\n",
    "    {'Transaction ID': 'T3', 'Items': 'Milk, Bread'},\n",
    "    {'Transaction ID': 'T4', 'Items': 'Milk, Bread, Butter, Eggs'},\n",
    "    {'Transaction ID': 'T5', 'Items': 'Bread, Butter, Eggs'},\n",
    "    {'Transaction ID': 'T6', 'Items': 'Milk, Eggs'},\n",
    "    {'Transaction ID': 'T7', 'Items': 'Bread, Butter, Eggs'},\n",
    "    {'Transaction ID': 'T8', 'Items': 'Milk, Bread, Butter'},\n",
    "    {'Transaction ID': 'T9', 'Items': 'Milk, Bread'},\n",
    "    {'Transaction ID': 'T10', 'Items': 'Bread, Butter'}])"
   ]
  },
  {
   "cell_type": "code",
   "execution_count": 4,
   "id": "a253c778",
   "metadata": {},
   "outputs": [
    {
     "data": {
      "text/html": [
       "<div>\n",
       "<style scoped>\n",
       "    .dataframe tbody tr th:only-of-type {\n",
       "        vertical-align: middle;\n",
       "    }\n",
       "\n",
       "    .dataframe tbody tr th {\n",
       "        vertical-align: top;\n",
       "    }\n",
       "\n",
       "    .dataframe thead th {\n",
       "        text-align: right;\n",
       "    }\n",
       "</style>\n",
       "<table border=\"1\" class=\"dataframe\">\n",
       "  <thead>\n",
       "    <tr style=\"text-align: right;\">\n",
       "      <th></th>\n",
       "      <th>Transaction ID</th>\n",
       "      <th>Items</th>\n",
       "    </tr>\n",
       "  </thead>\n",
       "  <tbody>\n",
       "    <tr>\n",
       "      <th>0</th>\n",
       "      <td>T1</td>\n",
       "      <td>Milk, Bread, Butter</td>\n",
       "    </tr>\n",
       "    <tr>\n",
       "      <th>1</th>\n",
       "      <td>T2</td>\n",
       "      <td>Bread, Butter</td>\n",
       "    </tr>\n",
       "    <tr>\n",
       "      <th>2</th>\n",
       "      <td>T3</td>\n",
       "      <td>Milk, Bread</td>\n",
       "    </tr>\n",
       "  </tbody>\n",
       "</table>\n",
       "</div>"
      ],
      "text/plain": [
       "  Transaction ID                Items\n",
       "0             T1  Milk, Bread, Butter\n",
       "1             T2        Bread, Butter\n",
       "2             T3          Milk, Bread"
      ]
     },
     "execution_count": 4,
     "metadata": {},
     "output_type": "execute_result"
    }
   ],
   "source": [
    "dataset.head(3)"
   ]
  },
  {
   "cell_type": "code",
   "execution_count": 35,
   "id": "fd9e2a01",
   "metadata": {},
   "outputs": [
    {
     "data": {
      "text/plain": [
       "(10, 2)"
      ]
     },
     "execution_count": 35,
     "metadata": {},
     "output_type": "execute_result"
    }
   ],
   "source": [
    "dataset.shape"
   ]
  },
  {
   "cell_type": "code",
   "execution_count": 6,
   "id": "a394959f",
   "metadata": {},
   "outputs": [],
   "source": [
    "transactions = dataset['Items'].apply(lambda x: x.split(', ')).tolist()"
   ]
  },
  {
   "cell_type": "code",
   "execution_count": 7,
   "id": "3c524c32",
   "metadata": {},
   "outputs": [],
   "source": [
    "from mlxtend.preprocessing import TransactionEncoder"
   ]
  },
  {
   "cell_type": "code",
   "execution_count": 8,
   "id": "a64966e7",
   "metadata": {},
   "outputs": [],
   "source": [
    "\n",
    "te = TransactionEncoder()"
   ]
  },
  {
   "cell_type": "code",
   "execution_count": 10,
   "id": "46c53005",
   "metadata": {},
   "outputs": [],
   "source": [
    "te_ary = te.fit_transform(transactions)"
   ]
  },
  {
   "cell_type": "code",
   "execution_count": 11,
   "id": "069db8d7",
   "metadata": {},
   "outputs": [],
   "source": [
    "df_encoded = pd.DataFrame(te_ary, columns=te.columns_)"
   ]
  },
  {
   "cell_type": "code",
   "execution_count": 14,
   "id": "b5f31086",
   "metadata": {},
   "outputs": [
    {
     "name": "stdout",
     "output_type": "stream",
     "text": [
      "\n",
      "One-Hot Encoded Data:\n"
     ]
    },
    {
     "data": {
      "text/html": [
       "<div>\n",
       "<style scoped>\n",
       "    .dataframe tbody tr th:only-of-type {\n",
       "        vertical-align: middle;\n",
       "    }\n",
       "\n",
       "    .dataframe tbody tr th {\n",
       "        vertical-align: top;\n",
       "    }\n",
       "\n",
       "    .dataframe thead th {\n",
       "        text-align: right;\n",
       "    }\n",
       "</style>\n",
       "<table border=\"1\" class=\"dataframe\">\n",
       "  <thead>\n",
       "    <tr style=\"text-align: right;\">\n",
       "      <th></th>\n",
       "      <th>Bread</th>\n",
       "      <th>Butter</th>\n",
       "      <th>Eggs</th>\n",
       "      <th>Milk</th>\n",
       "    </tr>\n",
       "  </thead>\n",
       "  <tbody>\n",
       "    <tr>\n",
       "      <th>0</th>\n",
       "      <td>True</td>\n",
       "      <td>True</td>\n",
       "      <td>False</td>\n",
       "      <td>True</td>\n",
       "    </tr>\n",
       "    <tr>\n",
       "      <th>1</th>\n",
       "      <td>True</td>\n",
       "      <td>True</td>\n",
       "      <td>False</td>\n",
       "      <td>False</td>\n",
       "    </tr>\n",
       "    <tr>\n",
       "      <th>2</th>\n",
       "      <td>True</td>\n",
       "      <td>False</td>\n",
       "      <td>False</td>\n",
       "      <td>True</td>\n",
       "    </tr>\n",
       "    <tr>\n",
       "      <th>3</th>\n",
       "      <td>True</td>\n",
       "      <td>True</td>\n",
       "      <td>True</td>\n",
       "      <td>True</td>\n",
       "    </tr>\n",
       "    <tr>\n",
       "      <th>4</th>\n",
       "      <td>True</td>\n",
       "      <td>True</td>\n",
       "      <td>True</td>\n",
       "      <td>False</td>\n",
       "    </tr>\n",
       "    <tr>\n",
       "      <th>5</th>\n",
       "      <td>False</td>\n",
       "      <td>False</td>\n",
       "      <td>True</td>\n",
       "      <td>True</td>\n",
       "    </tr>\n",
       "    <tr>\n",
       "      <th>6</th>\n",
       "      <td>True</td>\n",
       "      <td>True</td>\n",
       "      <td>True</td>\n",
       "      <td>False</td>\n",
       "    </tr>\n",
       "    <tr>\n",
       "      <th>7</th>\n",
       "      <td>True</td>\n",
       "      <td>True</td>\n",
       "      <td>False</td>\n",
       "      <td>True</td>\n",
       "    </tr>\n",
       "    <tr>\n",
       "      <th>8</th>\n",
       "      <td>True</td>\n",
       "      <td>False</td>\n",
       "      <td>False</td>\n",
       "      <td>True</td>\n",
       "    </tr>\n",
       "    <tr>\n",
       "      <th>9</th>\n",
       "      <td>True</td>\n",
       "      <td>True</td>\n",
       "      <td>False</td>\n",
       "      <td>False</td>\n",
       "    </tr>\n",
       "  </tbody>\n",
       "</table>\n",
       "</div>"
      ],
      "text/plain": [
       "   Bread  Butter   Eggs   Milk\n",
       "0   True    True  False   True\n",
       "1   True    True  False  False\n",
       "2   True   False  False   True\n",
       "3   True    True   True   True\n",
       "4   True    True   True  False\n",
       "5  False   False   True   True\n",
       "6   True    True   True  False\n",
       "7   True    True  False   True\n",
       "8   True   False  False   True\n",
       "9   True    True  False  False"
      ]
     },
     "execution_count": 14,
     "metadata": {},
     "output_type": "execute_result"
    }
   ],
   "source": [
    "print(\"\\nOne-Hot Encoded Data:\")\n",
    "df_encoded"
   ]
  },
  {
   "cell_type": "code",
   "execution_count": 16,
   "id": "540beffb",
   "metadata": {},
   "outputs": [],
   "source": [
    "from mlxtend.frequent_patterns import apriori, association_rules"
   ]
  },
  {
   "cell_type": "code",
   "execution_count": 17,
   "id": "ef3a686a",
   "metadata": {},
   "outputs": [],
   "source": [
    "# Step 5: Apply Apriori algorithm\n",
    "frequent_itemsets = apriori(df_encoded, min_support=0.3, use_colnames=True)\n"
   ]
  },
  {
   "cell_type": "code",
   "execution_count": 18,
   "id": "f2204a7f",
   "metadata": {},
   "outputs": [
    {
     "name": "stdout",
     "output_type": "stream",
     "text": [
      "\n",
      "Frequent Itemsets:\n",
      "    support               itemsets\n",
      "0       0.9                (Bread)\n",
      "1       0.7               (Butter)\n",
      "2       0.4                 (Eggs)\n",
      "3       0.6                 (Milk)\n",
      "4       0.7        (Bread, Butter)\n",
      "5       0.3          (Bread, Eggs)\n",
      "6       0.5          (Bread, Milk)\n",
      "7       0.3         (Eggs, Butter)\n",
      "8       0.3         (Milk, Butter)\n",
      "9       0.3  (Bread, Eggs, Butter)\n",
      "10      0.3  (Bread, Milk, Butter)\n"
     ]
    }
   ],
   "source": [
    "print(\"\\nFrequent Itemsets:\")\n",
    "print(frequent_itemsets)"
   ]
  },
  {
   "cell_type": "code",
   "execution_count": 19,
   "id": "8b31e64f",
   "metadata": {},
   "outputs": [],
   "source": [
    "rules = association_rules(frequent_itemsets, metric=\"lift\", min_threshold=1.0)"
   ]
  },
  {
   "cell_type": "code",
   "execution_count": 20,
   "id": "b3ed203f",
   "metadata": {},
   "outputs": [
    {
     "name": "stdout",
     "output_type": "stream",
     "text": [
      "\n",
      "Association Rules:\n",
      "        antecedents      consequents  support  confidence      lift\n",
      "0           (Bread)         (Butter)      0.7    0.777778  1.111111\n",
      "1          (Butter)          (Bread)      0.7    1.000000  1.111111\n",
      "2            (Eggs)         (Butter)      0.3    0.750000  1.071429\n",
      "3          (Butter)           (Eggs)      0.3    0.428571  1.071429\n",
      "4     (Bread, Eggs)         (Butter)      0.3    1.000000  1.428571\n",
      "5   (Bread, Butter)           (Eggs)      0.3    0.428571  1.071429\n",
      "6    (Eggs, Butter)          (Bread)      0.3    1.000000  1.111111\n",
      "7           (Bread)   (Eggs, Butter)      0.3    0.333333  1.111111\n",
      "8            (Eggs)  (Bread, Butter)      0.3    0.750000  1.071429\n",
      "9          (Butter)    (Bread, Eggs)      0.3    0.428571  1.428571\n",
      "10   (Milk, Butter)          (Bread)      0.3    1.000000  1.111111\n",
      "11          (Bread)   (Milk, Butter)      0.3    0.333333  1.111111\n"
     ]
    }
   ],
   "source": [
    "print(\"\\nAssociation Rules:\")\n",
    "print(rules[['antecedents', 'consequents', 'support', 'confidence', 'lift']])\n"
   ]
  },
  {
   "cell_type": "code",
   "execution_count": 27,
   "id": "ce4f9fbb",
   "metadata": {},
   "outputs": [],
   "source": [
    "product_counts = df_encoded.sum().sort_values(ascending=False)"
   ]
  },
  {
   "cell_type": "code",
   "execution_count": 28,
   "id": "209a2225",
   "metadata": {},
   "outputs": [
    {
     "name": "stdout",
     "output_type": "stream",
     "text": [
      "📦 Product Sales Count:\n",
      "\n",
      "Bread     9\n",
      "Butter    7\n",
      "Milk      6\n",
      "Eggs      4\n",
      "dtype: int64\n"
     ]
    }
   ],
   "source": [
    "print(\"📦 Product Sales Count:\\n\")\n",
    "print(product_counts)"
   ]
  },
  {
   "cell_type": "code",
   "execution_count": null,
   "id": "b02e58df",
   "metadata": {},
   "outputs": [],
   "source": []
  }
 ],
 "metadata": {
  "kernelspec": {
   "display_name": "Python 3 (ipykernel)",
   "language": "python",
   "name": "python3"
  },
  "language_info": {
   "codemirror_mode": {
    "name": "ipython",
    "version": 3
   },
   "file_extension": ".py",
   "mimetype": "text/x-python",
   "name": "python",
   "nbconvert_exporter": "python",
   "pygments_lexer": "ipython3",
   "version": "3.11.5"
  }
 },
 "nbformat": 4,
 "nbformat_minor": 5
}
